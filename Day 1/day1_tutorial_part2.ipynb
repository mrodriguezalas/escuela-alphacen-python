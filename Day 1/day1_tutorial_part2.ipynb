{
 "cells": [
  {
   "cell_type": "markdown",
   "metadata": {},
   "source": [
    "# Parte 2"
   ]
  },
  {
   "cell_type": "markdown",
   "metadata": {},
   "source": [
    "Lo que vimos en la parte 1\n",
    "\n",
    "### Declarar variables\n",
    "\n",
    "### Tipos de datos\n",
    "\n",
    "### Listas e indexado\n",
    "\n",
    "## Lo que cubre la parte 2\n",
    "Numpy, condicionales y loops"
   ]
  },
  {
   "cell_type": "markdown",
   "metadata": {},
   "source": [
    "#### ¿Qué es una función?"
   ]
  },
  {
   "cell_type": "code",
   "execution_count": 1,
   "metadata": {},
   "outputs": [
    {
     "name": "stdout",
     "output_type": "stream",
     "text": [
      "[1, 2, 3, 4, 5, 6, 7, 8, 9, 10]\n"
     ]
    }
   ],
   "source": [
    "y = range(1,11)\n",
    "print(y)"
   ]
  },
  {
   "cell_type": "markdown",
   "metadata": {},
   "source": [
    "1 y 11 son argumentos"
   ]
  },
  {
   "cell_type": "markdown",
   "metadata": {},
   "source": [
    "## ¿Qué son las librerías?\n",
    "## ¿Qué es numpy y matplotlib?"
   ]
  },
  {
   "cell_type": "code",
   "execution_count": 2,
   "metadata": {},
   "outputs": [],
   "source": [
    "import numpy as np\n",
    "import matplotlib.pyplot as plt\n",
    "%matplotlib inline"
   ]
  },
  {
   "cell_type": "markdown",
   "metadata": {},
   "source": [
    "Para crear un sin() puedo utilizar mi librería de numpy\n",
    "\n",
    "Para crear un plot puedo utilizar matplotlib\n",
    "\n",
    "Creemos un sin(x)"
   ]
  },
  {
   "cell_type": "code",
   "execution_count": 3,
   "metadata": {},
   "outputs": [],
   "source": [
    "x = np.linspace(0,10,100)\n",
    "y = np.sin(x)"
   ]
  },
  {
   "cell_type": "markdown",
   "metadata": {},
   "source": [
    "linspace me da un rango de números espaciados igualmente\n",
    "\n",
    "Creemos un plot simple"
   ]
  },
  {
   "cell_type": "code",
   "execution_count": 4,
   "metadata": {},
   "outputs": [
    {
     "data": {
      "text/plain": [
       "[<matplotlib.lines.Line2D at 0x19dfff7eec8>]"
      ]
     },
     "execution_count": 4,
     "metadata": {},
     "output_type": "execute_result"
    },
    {
     "data": {
      "image/png": "[encoded data removed]",
      "text/plain": [
       "<Figure size 432x288 with 1 Axes>"
      ]
     },
     "metadata": {
      "needs_background": "light"
     },
     "output_type": "display_data"
    }
   ],
   "source": [
    "plt.plot(x,y)"
   ]
  },
  {
   "cell_type": "markdown",
   "metadata": {},
   "source": [
    "## Cargar datos de un archivo\n",
    "Cargaremos algunos datos de un archivo\n",
    "\n",
    "### Loadtxt() and Genfromtxt()\n",
    "[loadtxt](https://numpy.org/doc/stable/reference/generated/numpy.loadtxt.html)"
   ]
  },
  {
   "cell_type": "code",
   "execution_count": 9,
   "metadata": {},
   "outputs": [],
   "source": [
    "class_grades = np.loadtxt('quantum_mechanics.grades', dtype='str')"
   ]
  },
  {
   "cell_type": "markdown",
   "metadata": {},
   "source": [
    "In the cell below, once you get it to load without throwing an error, print the array to see what it looks like. "
   ]
  },
  {
   "cell_type": "code",
   "execution_count": null,
   "metadata": {},
   "outputs": [],
   "source": [
    "class_grades"
   ]
  },
  {
   "cell_type": "markdown",
   "metadata": {},
   "source": [
    "Imprimir el elemento en el índice 0"
   ]
  },
  {
   "cell_type": "code",
   "execution_count": null,
   "metadata": {},
   "outputs": [],
   "source": [
    "#su codigo aquí"
   ]
  },
  {
   "cell_type": "markdown",
   "metadata": {},
   "source": [
    "¿Cómo puedo obtener solamente la nota del elemento 100?"
   ]
  },
  {
   "cell_type": "code",
   "execution_count": 10,
   "metadata": {},
   "outputs": [],
   "source": [
    "#su codigo aquí"
   ]
  },
  {
   "cell_type": "markdown",
   "metadata": {},
   "source": [
    "Guardar la nota del elemento 100 en una variable y convertirlo a float"
   ]
  },
  {
   "cell_type": "code",
   "execution_count": null,
   "metadata": {},
   "outputs": [],
   "source": [
    "#su codigo aquí"
   ]
  },
  {
   "cell_type": "code",
   "execution_count": 10,
   "metadata": {},
   "outputs": [
    {
     "name": "stdout",
     "output_type": "stream",
     "text": [
      "Sam\n",
      "Joe\n",
      "Priya\n",
      "Minh\n",
      "Sarah\n",
      "Shivani\n",
      "Alex\n",
      "Celeste\n",
      "Kaitlyn\n",
      "Andrew\n",
      "Dhruv\n",
      "Wren\n",
      "Melanie\n",
      "Caroline\n",
      "Roger\n",
      "Dick\n",
      "Mariah\n",
      "Josiah\n",
      "Malena\n",
      "Steven\n",
      "Stephanie\n",
      "Riya\n",
      "Jose\n",
      "Ahmed\n",
      "Mariska\n",
      "Tom\n",
      "Isaac\n",
      "Letty\n",
      "Emily\n",
      "Peter\n",
      "Arie\n",
      "Michael\n",
      "Bahar\n",
      "Jasmine\n",
      "Vega\n",
      "Samantha\n",
      "Nick\n",
      "Nikoo\n",
      "Leo\n",
      "Madeline\n",
      "Caragh\n",
      "Grace\n",
      "Arjun\n",
      "Sahana\n",
      "Nils\n",
      "Isabel\n",
      "Adam\n",
      "Pauline\n",
      "Paul\n",
      "Trevor\n",
      "Allyn\n",
      "Cedric\n",
      "Christine\n",
      "Derek\n",
      "Divya\n",
      "Gibson\n",
      "Justin\n",
      "Kelly\n",
      "Kaley\n",
      "Kiara\n",
      "Levi\n",
      "Luis\n",
      "Sanni\n",
      "Sean\n",
      "Nikoo\n"
     ]
    }
   ],
   "source": [
    "for i in class_grades:\n",
    "    print(i[0])\n"
   ]
  },
  {
   "cell_type": "code",
   "execution_count": 12,
   "metadata": {},
   "outputs": [
    {
     "name": "stdout",
     "output_type": "stream",
     "text": [
      "Mi edad es: 0\n",
      "Mi edad es: 1\n",
      "Mi edad es: 2\n",
      "Mi edad es: 3\n",
      "Mi edad es: 4\n",
      "Mi edad es: 5\n",
      "Mi edad es: 6\n",
      "Mi edad es: 7\n",
      "Mi edad es: 8\n",
      "Mi edad es: 9\n"
     ]
    }
   ],
   "source": [
    "for i in range(10):\n",
    "    print('Mi edad es: {}'.format(i))"
   ]
  },
  {
   "cell_type": "markdown",
   "metadata": {},
   "source": [
    "Más claramente"
   ]
  },
  {
   "cell_type": "code",
   "execution_count": 13,
   "metadata": {},
   "outputs": [
    {
     "name": "stdout",
     "output_type": "stream",
     "text": [
      "Mi edad es: 0\n",
      "Mi edad es: 1\n",
      "Mi edad es: 2\n",
      "Mi edad es: 3\n",
      "Mi edad es: 4\n",
      "Mi edad es: 5\n",
      "Mi edad es: 6\n",
      "Mi edad es: 7\n",
      "Mi edad es: 8\n",
      "Mi edad es: 9\n"
     ]
    }
   ],
   "source": [
    "thing_to_loop_over = range(10)\n",
    "for thing in thing_to_loop_over:\n",
    "    print('Mi edad es: {}'.format(thing))"
   ]
  },
  {
   "cell_type": "markdown",
   "metadata": {},
   "source": [
    "También podemos llenar una lista con un loop"
   ]
  },
  {
   "cell_type": "code",
   "execution_count": 14,
   "metadata": {},
   "outputs": [
    {
     "name": "stdout",
     "output_type": "stream",
     "text": [
      "[100.0, 68.0, 40.0, 78.0, 81.0, 65.0, 39.0, 118.0, 46.0, 78.0, 9.0, 37.0, 43.0, 87.0, 54.0, 29.0, 95.0, 87.0, 111.0, 65.0, 43.0, 53.0, 47.0, 16.0, 98.0, 82.0, 58.0, 5.0, 49.0, 67.0, 60.0, 76.0, 16.0, 111.0, 65.0, 61.0, 73.0, 63.0, 115.0, 72.0, 76.0, 48.0, 75.0, 101.0, 45.0, 46.0, 82.0, 57.0, 17.0, 88.0, 90.0, 53.0, 32.0, 28.0, 50.0, 91.0, 93.0, 7.0, 63.0, 88.0, 55.0, 37.0, 67.0, 0.0, 79.0]\n"
     ]
    }
   ],
   "source": [
    "to_fill = []\n",
    "for i in class_grades:\n",
    "    to_fill.append(float(i[1]))\n",
    "print(to_fill)"
   ]
  },
  {
   "cell_type": "markdown",
   "metadata": {},
   "source": [
    "### Ejercicio 1 - Un diccionario a partir de una lista\n",
    "\n",
    "Cree un diccionario vacío llamado class_dictionary. Itere sobre la lista de notas y agregue cada nombre de los estudiantes como una llave del diccionario, y su nota como un valor en float()\n",
    "\n",
    "Utilice:\n",
    "\n",
    "dictionary_name['new key'] = new value\n"
   ]
  },
  {
   "cell_type": "code",
   "execution_count": null,
   "metadata": {},
   "outputs": [],
   "source": [
    "#su codigo aquí"
   ]
  },
  {
   "cell_type": "markdown",
   "metadata": {},
   "source": [
    "Llame a la llave `Peter` aquí"
   ]
  },
  {
   "cell_type": "code",
   "execution_count": null,
   "metadata": {},
   "outputs": [],
   "source": [
    "#su codigo aquí"
   ]
  },
  {
   "cell_type": "markdown",
   "metadata": {},
   "source": [
    "Debería obtener 67.0\n",
    "\n",
    "Utilice np.max() y np.min() para encontrar los valores máximos y mínimos"
   ]
  },
  {
   "cell_type": "code",
   "execution_count": 15,
   "metadata": {},
   "outputs": [],
   "source": [
    "#su codigo aquí"
   ]
  },
  {
   "cell_type": "markdown",
   "metadata": {},
   "source": [
    "¿Quiénes obtuvieron estas notas? Utilize np.argmax() and np.argmin() para obtener las posiciones de los valores máximos y mínimos e imprima los nombres de las personas con las notas máxima y mínima. Indexe la lista de notas y obtenga los nombres, guardelos en 2 variables."
   ]
  },
  {
   "cell_type": "code",
   "execution_count": null,
   "metadata": {},
   "outputs": [],
   "source": [
    "#su codigo aquí"
   ]
  },
  {
   "cell_type": "markdown",
   "metadata": {},
   "source": [
    "(Debería obtener Sean and Celeste)\n",
    "\n",
    "Utilice np.mean() en lalista. Guardelo en una variable mean_score."
   ]
  },
  {
   "cell_type": "code",
   "execution_count": 16,
   "metadata": {},
   "outputs": [],
   "source": [
    "#su codigo aquí"
   ]
  },
  {
   "cell_type": "markdown",
   "metadata": {},
   "source": [
    "## If y condicionales"
   ]
  },
  {
   "cell_type": "code",
   "execution_count": 20,
   "metadata": {},
   "outputs": [
    {
     "name": "stdout",
     "output_type": "stream",
     "text": [
      "This is a long name\n"
     ]
    }
   ],
   "source": [
    "person_name = 'Finnaeus Fthrockbottom'\n",
    "if len(person_name) < 10:\n",
    "    print('This is a short name')\n",
    "else: \n",
    "    print('This is a long name')"
   ]
  },
  {
   "cell_type": "markdown",
   "metadata": {},
   "source": [
    "También podemos colocar varios ifs seguidos"
   ]
  },
  {
   "cell_type": "code",
   "execution_count": 21,
   "metadata": {},
   "outputs": [
    {
     "name": "stdout",
     "output_type": "stream",
     "text": [
      "F Contained\n",
      "n Contained\n"
     ]
    }
   ],
   "source": [
    "if 'F' in person_name:\n",
    "    print('F Contained')\n",
    "if 'n' in person_name:\n",
    "    print('n Contained')\n",
    "if 'l' in person_name:\n",
    "    print('F Contained')"
   ]
  },
  {
   "cell_type": "code",
   "execution_count": 22,
   "metadata": {},
   "outputs": [
    {
     "name": "stdout",
     "output_type": "stream",
     "text": [
      "F Contained\n"
     ]
    }
   ],
   "source": [
    "if 'F' in person_name:\n",
    "    print('F Contained')\n",
    "elif 'n' in person_name:\n",
    "    print('n Contained')"
   ]
  },
  {
   "cell_type": "markdown",
   "metadata": {},
   "source": [
    "Múltiples ifs"
   ]
  },
  {
   "cell_type": "code",
   "execution_count": 23,
   "metadata": {},
   "outputs": [
    {
     "name": "stdout",
     "output_type": "stream",
     "text": [
      "Both present\n",
      "One is present\n",
      "Neither present\n",
      "One is not present\n"
     ]
    }
   ],
   "source": [
    "if (\"F\" in person_name) and ('n' in person_name):\n",
    "    print('Both present')\n",
    "\n",
    "if (\"F\" in person_name) or ('n' in person_name):\n",
    "    print('One is present')\n",
    "\n",
    "if (\"l\" not in person_name) and ('y' not in person_name):\n",
    "    print('Neither present')\n",
    "\n",
    "if (\"l\" not in person_name) or ('F' not in person_name):\n",
    "    print('One is not present')"
   ]
  },
  {
   "cell_type": "markdown",
   "metadata": {},
   "source": [
    "### Ejercicio\n",
    "Cree dos listas `aprobados` y `reprobados` itere sobre la lista y si la nota es mayor a 65 agreguela a la lista de aprobados, sino agregue al estudiante a la lista de reprobados"
   ]
  },
  {
   "cell_type": "code",
   "execution_count": 24,
   "metadata": {},
   "outputs": [],
   "source": [
    "#code here"
   ]
  },
  {
   "cell_type": "markdown",
   "metadata": {},
   "source": [
    "### Plots"
   ]
  },
  {
   "cell_type": "code",
   "execution_count": 17,
   "metadata": {},
   "outputs": [
    {
     "data": {
      "image/png": "[encoded data removed]",
      "text/plain": [
       "<Figure size 432x288 with 1 Axes>"
      ]
     },
     "metadata": {
      "needs_background": "light"
     },
     "output_type": "display_data"
    }
   ],
   "source": [
    "plt.hist(to_fill)\n",
    "plt.show()"
   ]
  },
  {
   "cell_type": "code",
   "execution_count": 18,
   "metadata": {},
   "outputs": [
    {
     "data": {
      "image/png": "[encoded data removed]",
      "text/plain": [
       "<Figure size 432x288 with 1 Axes>"
      ]
     },
     "metadata": {
      "needs_background": "light"
     },
     "output_type": "display_data"
    }
   ],
   "source": [
    "plt.hist(to_fill,color=\"r\",alpha=0.5)\n",
    "plt.show()"
   ]
  },
  {
   "cell_type": "code",
   "execution_count": 19,
   "metadata": {},
   "outputs": [
    {
     "data": {
      "image/png": "[encoded data removed]",
      "text/plain": [
       "<Figure size 432x288 with 1 Axes>"
      ]
     },
     "metadata": {
      "needs_background": "light"
     },
     "output_type": "display_data"
    }
   ],
   "source": [
    "plt.hist(to_fill,bins=6,color='r',alpha=0.5)\n",
    "plt.hist(to_fill,bins=15,color='b',alpha=0.7)\n",
    "plt.show()"
   ]
  },
  {
   "cell_type": "code",
   "execution_count": 20,
   "metadata": {},
   "outputs": [
    {
     "name": "stderr",
     "output_type": "stream",
     "text": [
      "C:\\Users\\murip\\anaconda3\\envs\\pyvizenv\\lib\\site-packages\\ipykernel_launcher.py:1: MatplotlibDeprecationWarning: \n",
      "The 'normed' kwarg was deprecated in Matplotlib 2.1 and will be removed in 3.1. Use 'density' instead.\n",
      "  \"\"\"Entry point for launching an IPython kernel.\n",
      "C:\\Users\\murip\\anaconda3\\envs\\pyvizenv\\lib\\site-packages\\ipykernel_launcher.py:2: MatplotlibDeprecationWarning: \n",
      "The 'normed' kwarg was deprecated in Matplotlib 2.1 and will be removed in 3.1. Use 'density' instead.\n",
      "  \n"
     ]
    },
    {
     "data": {
      "image/png": "[encoded data removed]",
      "text/plain": [
       "<Figure size 432x288 with 1 Axes>"
      ]
     },
     "metadata": {
      "needs_background": "light"
     },
     "output_type": "display_data"
    }
   ],
   "source": [
    "plt.hist(to_fill,bins=6,color='r',alpha=0.5,normed=True)\n",
    "plt.hist(to_fill,bins=15,color='b',alpha=0.5,normed=True)\n",
    "plt.show()"
   ]
  }
 ],
 "metadata": {
  "anaconda-cloud": {},
  "kernelspec": {
   "display_name": "Python [conda env:pyvizenv]",
   "language": "python",
   "name": "conda-env-pyvizenv-py"
  },
  "language_info": {
   "codemirror_mode": {
    "name": "ipython",
    "version": 3
   },
   "file_extension": ".py",
   "mimetype": "text/x-python",
   "name": "python",
   "nbconvert_exporter": "python",
   "pygments_lexer": "ipython3",
   "version": "3.7.9"
  }
 },
 "nbformat": 4,
 "nbformat_minor": 4
}
