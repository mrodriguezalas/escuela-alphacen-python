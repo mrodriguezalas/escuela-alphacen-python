{
 "cells": [
  {
   "cell_type": "markdown",
   "metadata": {},
   "source": [
    "# Parte 2"
   ]
  },
  {
   "cell_type": "markdown",
   "metadata": {},
   "source": [
    "Lo que vimos en la parte 1\n",
    "\n",
    "### Declarar variables\n",
    "\n",
    "### Tipos de datos\n",
    "\n",
    "### Listas e indexado\n",
    "\n",
    "## Lo que cubre la parte 2\n",
    "Numpy, condicionales y loops"
   ]
  },
  {
   "cell_type": "markdown",
   "metadata": {},
   "source": [
    "#### ¿Qué es una función?"
   ]
  },
  {
   "cell_type": "code",
   "execution_count": 1,
   "metadata": {},
   "outputs": [
    {
     "name": "stdout",
     "output_type": "stream",
     "text": [
      "[1, 2, 3, 4, 5, 6, 7, 8, 9, 10]\n"
     ]
    }
   ],
   "source": [
    "y = range(1,11)\n",
    "print(y)"
   ]
  },
  {
   "cell_type": "markdown",
   "metadata": {},
   "source": [
    "1 y 11 son argumentos"
   ]
  },
  {
   "cell_type": "markdown",
   "metadata": {},
   "source": [
    "## ¿Qué son las librerías?\n",
    "## ¿Qué es numpy y matplotlib?"
   ]
  },
  {
   "cell_type": "code",
   "execution_count": 2,
   "metadata": {},
   "outputs": [],
   "source": [
    "import numpy as np\n",
    "import matplotlib.pyplot as plt\n",
    "%matplotlib inline"
   ]
  },
  {
   "cell_type": "markdown",
   "metadata": {},
   "source": [
    "Para crear un sin() puedo utilizar mi librería de numpy\n",
    "\n",
    "Para crear un plot puedo utilizar matplotlib\n",
    "\n",
    "Creemos un sin(x)"
   ]
  },
  {
   "cell_type": "code",
   "execution_count": 3,
   "metadata": {},
   "outputs": [],
   "source": [
    "x = np.linspace(0,10,100)\n",
    "y = np.sin(x)"
   ]
  },
  {
   "cell_type": "markdown",
   "metadata": {},
   "source": [
    "linspace me da un rango de números espaciados igualmente\n",
    "\n",
    "Creemos un plot simple"
   ]
  },
  {
   "cell_type": "code",
   "execution_count": 4,
   "metadata": {},
   "outputs": [
    {
     "data": {
      "text/plain": [
       "[<matplotlib.lines.Line2D at 0x19dfff7eec8>]"
      ]
     },
     "execution_count": 4,
     "metadata": {},
     "output_type": "execute_result"
    },
    {
     "data": {
      "image/png": "[encoded data removed]",
      "text/plain": [
       "<Figure size 432x288 with 1 Axes>"
      ]
     },
     "metadata": {
      "needs_background": "light"
     },
     "output_type": "display_data"
    }
   ],
   "source": [
    "plt.plot(x,y)"
   ]
  },
  {
   "cell_type": "markdown",
   "metadata": {},
   "source": [
    "## Cargar datos de un archivo\n",
    "Cargaremos algunos datos de un archivo\n",
    "\n",
    "### Loadtxt() and Genfromtxt()\n",
    "[loadtxt](https://numpy.org/doc/stable/reference/generated/numpy.loadtxt.html)"
   ]
  },
  {
   "cell_type": "code",
   "execution_count": 9,
   "metadata": {},
   "outputs": [],
   "source": [
    "class_grades = np.loadtxt('quantum_mechanics.grades', dtype='str')"
   ]
  },
  {
   "cell_type": "markdown",
   "metadata": {},
   "source": [
    "In the cell below, once you get it to load without throwing an error, print the array to see what it looks like. "
   ]
  },
  {
   "cell_type": "code",
   "execution_count": null,
   "metadata": {},
   "outputs": [],
   "source": [
    "class_grades"
   ]
  },
  {
   "cell_type": "markdown",
   "metadata": {},
   "source": [
    "Imprimir el elemento en el índice 0"
   ]
  },
  {
   "cell_type": "code",
   "execution_count": null,
   "metadata": {},
   "outputs": [],
   "source": [
    "#su codigo aquí"
   ]
  },
  {
   "cell_type": "markdown",
   "metadata": {},
   "source": [
    "¿Cómo puedo obtener solamente la nota del elemento 100?"
   ]
  },
  {
   "cell_type": "code",
   "execution_count": 10,
   "metadata": {},
   "outputs": [],
   "source": [
    "#su codigo aquí"
   ]
  },
  {
   "cell_type": "markdown",
   "metadata": {},
   "source": [
    "Guardar la nota del elemento 100 en una variable y convertirlo a float"
   ]
  },
  {
   "cell_type": "code",
   "execution_count": null,
   "metadata": {},
   "outputs": [],
   "source": [
    "#su codigo aquí"
   ]
  },
  {
   "cell_type": "code",
   "execution_count": 10,
   "metadata": {},
   "outputs": [
    {
     "name": "stdout",
     "output_type": "stream",
     "text": [
      "Sam\n",
      "Joe\n",
      "Priya\n",
      "Minh\n",
      "Sarah\n",
      "Shivani\n",
      "Alex\n",
      "Celeste\n",
      "Kaitlyn\n",
      "Andrew\n",
      "Dhruv\n",
      "Wren\n",
      "Melanie\n",
      "Caroline\n",
      "Roger\n",
      "Dick\n",
      "Mariah\n",
      "Josiah\n",
      "Malena\n",
      "Steven\n",
      "Stephanie\n",
      "Riya\n",
      "Jose\n",
      "Ahmed\n",
      "Mariska\n",
      "Tom\n",
      "Isaac\n",
      "Letty\n",
      "Emily\n",
      "Peter\n",
      "Arie\n",
      "Michael\n",
      "Bahar\n",
      "Jasmine\n",
      "Vega\n",
      "Samantha\n",
      "Nick\n",
      "Nikoo\n",
      "Leo\n",
      "Madeline\n",
      "Caragh\n",
      "Grace\n",
      "Arjun\n",
      "Sahana\n",
      "Nils\n",
      "Isabel\n",
      "Adam\n",
      "Pauline\n",
      "Paul\n",
      "Trevor\n",
      "Allyn\n",
      "Cedric\n",
      "Christine\n",
      "Derek\n",
      "Divya\n",
      "Gibson\n",
      "Justin\n",
      "Kelly\n",
      "Kaley\n",
      "Kiara\n",
      "Levi\n",
      "Luis\n",
      "Sanni\n",
      "Sean\n",
      "Nikoo\n"
     ]
    }
   ],
   "source": [
    "for i in class_grades:\n",
    "    print(i[0])\n"
   ]
  },
  {
   "cell_type": "code",
   "execution_count": 12,
   "metadata": {},
   "outputs": [
    {
     "name": "stdout",
     "output_type": "stream",
     "text": [
      "Mi edad es: 0\n",
      "Mi edad es: 1\n",
      "Mi edad es: 2\n",
      "Mi edad es: 3\n",
      "Mi edad es: 4\n",
      "Mi edad es: 5\n",
      "Mi edad es: 6\n",
      "Mi edad es: 7\n",
      "Mi edad es: 8\n",
      "Mi edad es: 9\n"
     ]
    }
   ],
   "source": [
    "for i in range(10):\n",
    "    print('Mi edad es: {}'.format(i))"
   ]
  },
  {
   "cell_type": "markdown",
   "metadata": {},
   "source": [
    "Más claramente"
   ]
  },
  {
   "cell_type": "code",
   "execution_count": 13,
   "metadata": {},
   "outputs": [
    {
     "name": "stdout",
     "output_type": "stream",
     "text": [
      "Mi edad es: 0\n",
      "Mi edad es: 1\n",
      "Mi edad es: 2\n",
      "Mi edad es: 3\n",
      "Mi edad es: 4\n",
      "Mi edad es: 5\n",
      "Mi edad es: 6\n",
      "Mi edad es: 7\n",
      "Mi edad es: 8\n",
      "Mi edad es: 9\n"
     ]
    }
   ],
   "source": [
    "thing_to_loop_over = range(10)\n",
    "for thing in thing_to_loop_over:\n",
    "    print('Mi edad es: {}'.format(thing))"
   ]
  },
  {
   "cell_type": "markdown",
   "metadata": {},
   "source": [
    "También podemos llenar una lista con un loop"
   ]
  },
  {
   "cell_type": "code",
   "execution_count": 14,
   "metadata": {},
   "outputs": [
    {
     "name": "stdout",
     "output_type": "stream",
     "text": [
      "[100.0, 68.0, 40.0, 78.0, 81.0, 65.0, 39.0, 118.0, 46.0, 78.0, 9.0, 37.0, 43.0, 87.0, 54.0, 29.0, 95.0, 87.0, 111.0, 65.0, 43.0, 53.0, 47.0, 16.0, 98.0, 82.0, 58.0, 5.0, 49.0, 67.0, 60.0, 76.0, 16.0, 111.0, 65.0, 61.0, 73.0, 63.0, 115.0, 72.0, 76.0, 48.0, 75.0, 101.0, 45.0, 46.0, 82.0, 57.0, 17.0, 88.0, 90.0, 53.0, 32.0, 28.0, 50.0, 91.0, 93.0, 7.0, 63.0, 88.0, 55.0, 37.0, 67.0, 0.0, 79.0]\n"
     ]
    }
   ],
   "source": [
    "to_fill = []\n",
    "for i in class_grades:\n",
    "    to_fill.append(float(i[1]))\n",
    "print(to_fill)"
   ]
  },
  {
   "cell_type": "markdown",
   "metadata": {},
   "source": [
    "### Ejercicio 1 - Un diccionario a partir de una lista\n",
    "\n",
    "Cree un diccionario vacío llamado class_dictionary. Itere sobre la lista de notas y agregue cada nombre de los estudiantes como una llave del diccionario, y su nota como un valor en float()\n",
    "\n",
    "Utilice:\n",
    "\n",
    "dictionary_name['new key'] = new value\n"
   ]
  },
  {
   "cell_type": "code",
   "execution_count": 119,
   "metadata": {},
   "outputs": [
    {
     "data": {
      "text/plain": [
       "{'Sam': '100',\n",
       " 'Joe': '68',\n",
       " 'Priya': '40',\n",
       " 'Minh': '78',\n",
       " 'Sarah': '81',\n",
       " 'Shivani': '65',\n",
       " 'Alex': '39',\n",
       " 'Celeste': '118',\n",
       " 'Kaitlyn': '46',\n",
       " 'Andrew': '78',\n",
       " 'Dhruv': '9',\n",
       " 'Wren': '37',\n",
       " 'Melanie': '43',\n",
       " 'Caroline': '87',\n",
       " 'Roger': '54',\n",
       " 'Dick': '29',\n",
       " 'Mariah': '95',\n",
       " 'Josiah': '87',\n",
       " 'Malena': '111',\n",
       " 'Steven': '65',\n",
       " 'Stephanie': '43',\n",
       " 'Riya': '53',\n",
       " 'Jose': '47',\n",
       " 'Ahmed': '16',\n",
       " 'Mariska': '98',\n",
       " 'Tom': '82',\n",
       " 'Isaac': '58',\n",
       " 'Letty': '5',\n",
       " 'Emily': '49',\n",
       " 'Peter': '67',\n",
       " 'Arie': '60',\n",
       " 'Michael': '76',\n",
       " 'Bahar': '16',\n",
       " 'Jasmine': '111',\n",
       " 'Vega': '65',\n",
       " 'Samantha': '61',\n",
       " 'Nick': '73',\n",
       " 'Nikoo': '79',\n",
       " 'Leo': '115',\n",
       " 'Madeline': '72',\n",
       " 'Caragh': '76',\n",
       " 'Grace': '48',\n",
       " 'Arjun': '75',\n",
       " 'Sahana': '101',\n",
       " 'Nils': '45',\n",
       " 'Isabel': '46',\n",
       " 'Adam': '82',\n",
       " 'Pauline': '57',\n",
       " 'Paul': '17',\n",
       " 'Trevor': '88',\n",
       " 'Allyn': '90',\n",
       " 'Cedric': '53',\n",
       " 'Christine': '32',\n",
       " 'Derek': '28',\n",
       " 'Divya': '50',\n",
       " 'Gibson': '91',\n",
       " 'Justin': '93',\n",
       " 'Kelly': '7',\n",
       " 'Kaley': '63',\n",
       " 'Kiara': '88',\n",
       " 'Levi': '55',\n",
       " 'Luis': '37',\n",
       " 'Sanni': '67',\n",
       " 'Sean': '0'}"
      ]
     },
     "execution_count": 119,
     "metadata": {},
     "output_type": "execute_result"
    }
   ],
   "source": [
    "class_dictionary = {}\n",
    "\n",
    "for i in class_grades:\n",
    "    class_dictionary[i[0]] = i[1]\n",
    "class_dictionary"
   ]
  },
  {
   "cell_type": "code",
   "execution_count": null,
   "metadata": {},
   "outputs": [],
   "source": [
    "#su codigo aquí"
   ]
  },
  {
   "cell_type": "markdown",
   "metadata": {},
   "source": [
    "Llame a la llave `Peter` aquí"
   ]
  },
  {
   "cell_type": "code",
   "execution_count": null,
   "metadata": {},
   "outputs": [],
   "source": [
    "#su codigo aquí"
   ]
  },
  {
   "cell_type": "markdown",
   "metadata": {},
   "source": [
    "Debería obtener 67.0\n",
    "\n",
    "Utilice np.max() y np.min() para encontrar los valores máximos y mínimos"
   ]
  },
  {
   "cell_type": "code",
   "execution_count": 15,
   "metadata": {},
   "outputs": [],
   "source": [
    "#su codigo aquí"
   ]
  },
  {
   "cell_type": "markdown",
   "metadata": {},
   "source": [
    "¿Quiénes obtuvieron estas notas? Utilize np.argmax() and np.argmin() para obtener las posiciones de los valores máximos y mínimos e imprima los nombres de las personas con las notas máxima y mínima. Indexe la lista de notas y obtenga los nombres, guardelos en 2 variables."
   ]
  },
  {
   "cell_type": "code",
   "execution_count": null,
   "metadata": {},
   "outputs": [],
   "source": [
    "#su codigo aquí"
   ]
  },
  {
   "cell_type": "markdown",
   "metadata": {},
   "source": [
    "(Debería obtener Sean and Celeste)\n",
    "\n",
    "Utilice np.mean() en la lista de notas. Guardelo en una variable mean_score."
   ]
  },
  {
   "cell_type": "code",
   "execution_count": 16,
   "metadata": {},
   "outputs": [],
   "source": [
    "#su codigo aquí"
   ]
  },
  {
   "cell_type": "markdown",
   "metadata": {},
   "source": [
    "## If y condicionales"
   ]
  },
  {
   "cell_type": "code",
   "execution_count": 32,
   "metadata": {},
   "outputs": [
    {
     "name": "stdout",
     "output_type": "stream",
     "text": [
      "Este es un nombre largo\n"
     ]
    }
   ],
   "source": [
    "person_name = 'Finnaeus Fthrockbottom'\n",
    "if len(person_name) < 10:\n",
    "    print('Este es un nombre corto')\n",
    "else: \n",
    "    print('Este es un nombre largo')"
   ]
  },
  {
   "cell_type": "markdown",
   "metadata": {},
   "source": [
    "También podemos colocar varios ifs seguidos"
   ]
  },
  {
   "cell_type": "code",
   "execution_count": 33,
   "metadata": {},
   "outputs": [
    {
     "name": "stdout",
     "output_type": "stream",
     "text": [
      "Contiene F\n",
      "Contiene n\n"
     ]
    }
   ],
   "source": [
    "if 'F' in person_name:\n",
    "    print('Contiene F')\n",
    "if 'n' in person_name:\n",
    "    print('Contiene n')\n",
    "if 'l' in person_name:\n",
    "    print('Contiene l')"
   ]
  },
  {
   "cell_type": "code",
   "execution_count": 34,
   "metadata": {},
   "outputs": [
    {
     "name": "stdout",
     "output_type": "stream",
     "text": [
      "Contiene F\n"
     ]
    }
   ],
   "source": [
    "if 'F' in person_name:\n",
    "    print('Contiene F')\n",
    "elif 'n' in person_name:\n",
    "    print('Contiene n')"
   ]
  },
  {
   "cell_type": "markdown",
   "metadata": {},
   "source": [
    "Múltiples ifs"
   ]
  },
  {
   "cell_type": "code",
   "execution_count": 35,
   "metadata": {},
   "outputs": [
    {
     "name": "stdout",
     "output_type": "stream",
     "text": [
      "Ambas presentes\n",
      "Solo uno está presente\n",
      "Ninguno está presente\n",
      "Solo uno está presente\n"
     ]
    }
   ],
   "source": [
    "if (\"F\" in person_name) and ('n' in person_name):\n",
    "    print('Ambas presentes')\n",
    "\n",
    "if (\"F\" in person_name) or ('n' in person_name):\n",
    "    print('Solo uno está presente')\n",
    "\n",
    "if (\"l\" not in person_name) and ('y' not in person_name):\n",
    "    print('Ninguno está presente')\n",
    "\n",
    "if (\"l\" not in person_name) or ('F' not in person_name):\n",
    "    print('Solo uno está presente')"
   ]
  },
  {
   "cell_type": "markdown",
   "metadata": {},
   "source": [
    "### Ejercicio\n",
    "Cree dos listas `aprobados` y `reprobados` itere sobre la lista y si la nota es mayor a 65 agreguela a la lista de aprobados, sino agregue al estudiante a la lista de reprobados"
   ]
  },
  {
   "cell_type": "code",
   "execution_count": 38,
   "metadata": {},
   "outputs": [
    {
     "data": {
      "text/plain": [
       "array([['Sam', '100'],\n",
       "       ['Joe', '68'],\n",
       "       ['Priya', '40'],\n",
       "       ['Minh', '78'],\n",
       "       ['Sarah', '81'],\n",
       "       ['Shivani', '65'],\n",
       "       ['Alex', '39'],\n",
       "       ['Celeste', '118'],\n",
       "       ['Kaitlyn', '46'],\n",
       "       ['Andrew', '78'],\n",
       "       ['Dhruv', '9'],\n",
       "       ['Wren', '37'],\n",
       "       ['Melanie', '43'],\n",
       "       ['Caroline', '87'],\n",
       "       ['Roger', '54'],\n",
       "       ['Dick', '29'],\n",
       "       ['Mariah', '95'],\n",
       "       ['Josiah', '87'],\n",
       "       ['Malena', '111'],\n",
       "       ['Steven', '65'],\n",
       "       ['Stephanie', '43'],\n",
       "       ['Riya', '53'],\n",
       "       ['Jose', '47'],\n",
       "       ['Ahmed', '16'],\n",
       "       ['Mariska', '98'],\n",
       "       ['Tom', '82'],\n",
       "       ['Isaac', '58'],\n",
       "       ['Letty', '5'],\n",
       "       ['Emily', '49'],\n",
       "       ['Peter', '67'],\n",
       "       ['Arie', '60'],\n",
       "       ['Michael', '76'],\n",
       "       ['Bahar', '16'],\n",
       "       ['Jasmine', '111'],\n",
       "       ['Vega', '65'],\n",
       "       ['Samantha', '61'],\n",
       "       ['Nick', '73'],\n",
       "       ['Nikoo', '63'],\n",
       "       ['Leo', '115'],\n",
       "       ['Madeline', '72'],\n",
       "       ['Caragh', '76'],\n",
       "       ['Grace', '48'],\n",
       "       ['Arjun', '75'],\n",
       "       ['Sahana', '101'],\n",
       "       ['Nils', '45'],\n",
       "       ['Isabel', '46'],\n",
       "       ['Adam', '82'],\n",
       "       ['Pauline', '57'],\n",
       "       ['Paul', '17'],\n",
       "       ['Trevor', '88'],\n",
       "       ['Allyn', '90'],\n",
       "       ['Cedric', '53'],\n",
       "       ['Christine', '32'],\n",
       "       ['Derek', '28'],\n",
       "       ['Divya', '50'],\n",
       "       ['Gibson', '91'],\n",
       "       ['Justin', '93'],\n",
       "       ['Kelly', '7'],\n",
       "       ['Kaley', '63'],\n",
       "       ['Kiara', '88'],\n",
       "       ['Levi', '55'],\n",
       "       ['Luis', '37'],\n",
       "       ['Sanni', '67'],\n",
       "       ['Sean', '0'],\n",
       "       ['Nikoo', '79']], dtype='<U9')"
      ]
     },
     "execution_count": 38,
     "metadata": {},
     "output_type": "execute_result"
    }
   ],
   "source": [
    "class_grades"
   ]
  },
  {
   "cell_type": "code",
   "execution_count": 54,
   "metadata": {},
   "outputs": [
    {
     "data": {
      "text/plain": [
       "array(['Joe', '68'], dtype='<U9')"
      ]
     },
     "execution_count": 54,
     "metadata": {},
     "output_type": "execute_result"
    }
   ],
   "source": [
    "class_grades[1]"
   ]
  },
  {
   "cell_type": "code",
   "execution_count": 50,
   "metadata": {},
   "outputs": [
    {
     "data": {
      "text/plain": [
       "numpy.ndarray"
      ]
     },
     "execution_count": 50,
     "metadata": {},
     "output_type": "execute_result"
    }
   ],
   "source": [
    "type(class_grades[1])"
   ]
  },
  {
   "cell_type": "code",
   "execution_count": 74,
   "metadata": {},
   "outputs": [
    {
     "name": "stdout",
     "output_type": "stream",
     "text": [
      "Los aprobados son:\n",
      " ['Sam', 'Joe', 'Minh', 'Sarah', 'Shivani', 'Celeste', 'Andrew', 'Caroline', 'Mariah', 'Josiah', 'Malena', 'Steven', 'Mariska', 'Tom', 'Peter', 'Michael', 'Jasmine', 'Vega', 'Nick', 'Leo', 'Madeline', 'Caragh', 'Arjun', 'Sahana', 'Adam', 'Trevor', 'Allyn', 'Gibson', 'Justin', 'Kiara', 'Sanni', 'Nikoo']\n",
      "\n",
      "\n",
      "Los reprobados son:\n",
      " ['Priya', 'Alex', 'Kaitlyn', 'Dhruv', 'Wren', 'Melanie', 'Roger', 'Dick', 'Stephanie', 'Riya', 'Jose', 'Ahmed', 'Isaac', 'Letty', 'Emily', 'Arie', 'Bahar', 'Samantha', 'Nikoo', 'Grace', 'Nils', 'Isabel', 'Pauline', 'Paul', 'Cedric', 'Christine', 'Derek', 'Divya', 'Kelly', 'Kaley', 'Levi', 'Luis', 'Sean']\n"
     ]
    }
   ],
   "source": [
    "aprobados = []\n",
    "reprobados = []\n",
    "\n",
    "for i in class_grades:\n",
    "#    if int(i[1]) >= 65:\n",
    "#        aprobados.append(str(i[0]))\n",
    "#    elif int(i[1]) <= 65:\n",
    "#        reprobados.append(str(i[0]))\n",
    "#print('Los aprobados son:\\n', aprobados, end='\\n\\n\\n')\n",
    "#print('Los reprobados son:\\n',reprobados)\n",
    "#code here"
   ]
  },
  {
   "cell_type": "markdown",
   "metadata": {},
   "source": [
    "### Plots"
   ]
  },
  {
   "cell_type": "code",
   "execution_count": 77,
   "metadata": {},
   "outputs": [
    {
     "data": {
      "image/png": "[encoded data removed]",
      "text/plain": [
       "<Figure size 432x288 with 1 Axes>"
      ]
     },
     "metadata": {
      "needs_background": "light"
     },
     "output_type": "display_data"
    }
   ],
   "source": [
    "#Usemos la lista to_fill que creamos al principio\n",
    "plt.hist(to_fill)\n",
    "plt.show()"
   ]
  },
  {
   "cell_type": "code",
   "execution_count": 78,
   "metadata": {},
   "outputs": [
    {
     "data": {
      "image/png": "[encoded data removed]",
      "text/plain": [
       "<Figure size 432x288 with 1 Axes>"
      ]
     },
     "metadata": {
      "needs_background": "light"
     },
     "output_type": "display_data"
    }
   ],
   "source": [
    "#Podemos cambiar el color de una línea o gráfica con el argumento color\n",
    "#alpha cambiar la transparencia de los datos graficados\n",
    "plt.hist(to_fill,color=\"r\",alpha=0.5)\n",
    "plt.show()"
   ]
  },
  {
   "cell_type": "code",
   "execution_count": 79,
   "metadata": {},
   "outputs": [
    {
     "data": {
      "image/png": "[encoded data removed]",
      "text/plain": [
       "<Figure size 432x288 with 1 Axes>"
      ]
     },
     "metadata": {
      "needs_background": "light"
     },
     "output_type": "display_data"
    }
   ],
   "source": [
    "#los bins determinan en cuántos segmentos dividimos nuestro histograma\n",
    "plt.hist(to_fill,bins=6,color='r',alpha=0.5)\n",
    "plt.hist(to_fill,bins=15,color='b',alpha=0.7)\n",
    "plt.show()"
   ]
  },
  {
   "cell_type": "code",
   "execution_count": 83,
   "metadata": {},
   "outputs": [
    {
     "data": {
      "image/png": "[encoded data removed]",
      "text/plain": [
       "<Figure size 432x288 with 1 Axes>"
      ]
     },
     "metadata": {
      "needs_background": "light"
     },
     "output_type": "display_data"
    }
   ],
   "source": [
    "#density muestra una densidad de probabilidad \n",
    "#esto es que tan probable es que una variable tome determinado valor\n",
    "plt.hist(to_fill,bins=6,color='r',alpha=0.5,density=True)\n",
    "plt.hist(to_fill,bins=15,color='b',alpha=0.5,density=True)\n",
    "plt.show()"
   ]
  },
  {
   "cell_type": "code",
   "execution_count": 85,
   "metadata": {},
   "outputs": [
    {
     "data": {
      "image/png": "[encoded data removed]",
      "text/plain": [
       "<Figure size 432x288 with 1 Axes>"
      ]
     },
     "metadata": {
      "needs_background": "light"
     },
     "output_type": "display_data"
    }
   ],
   "source": [
    "#Agreguemos algunas etiquetas\n",
    "plt.hist(to_fill,bins=9,alpha=0.5)\n",
    "plt.xlabel('Puntaje (de 120)')\n",
    "plt.ylabel('Número de estudiantes')\n",
    "plt.title('Distribución de puntajes de estudiantes para el examen 1')\n",
    "plt.show()"
   ]
  },
  {
   "cell_type": "markdown",
   "metadata": {},
   "source": [
    "## Ejercicio\n",
    "Muchas veces estamos interesados en los percentiles de los puntajes.\n",
    "- Muestre los percentiles 16, 50 y 84 utilizando np.percentile(array,#), donde # es el numero de percentil que quiere calcular\n",
    "- Marque los percentiles indicados con la función `plt.axvline(valor, ls='--', color='k')`, esto creará una línea punteada en la posición indicada "
   ]
  },
  {
   "cell_type": "code",
   "execution_count": 87,
   "metadata": {},
   "outputs": [
    {
     "data": {
      "image/png": "[encoded data removed]",
      "text/plain": [
       "<Figure size 432x288 with 1 Axes>"
      ]
     },
     "metadata": {
      "needs_background": "light"
     },
     "output_type": "display_data"
    }
   ],
   "source": [
    "#su codigo aquí. Reproduzca el siguiente plot"
   ]
  },
  {
   "cell_type": "markdown",
   "metadata": {},
   "source": [
    "## Funciones\n",
    "Previamente hablamos de funciones.\n",
    "Las funcionees son bloques de código reutilizable que se puede ejecutar muchas veces dentro de tu programa.\n",
    "Python viene con muchísimas funciones que usamos continuamente: `print()`, `len()`, etc\n",
    "\n",
    "## Sintaxis\n",
    "Para crear una función:\n",
    "- Una función empieza con la palabra `def`.\n",
    "- Seguido del nombre de la función.\n",
    "- Luego un paréntesis y dentro de estos los parámetros de entrada, aunque sean opcionales\n",
    "- Dos puntos `:`\n",
    "- Nuestro bloque de código a ejecutar\n",
    "- La palabra clave (sentencia) de retorno `return`"
   ]
  },
  {
   "cell_type": "code",
   "execution_count": 90,
   "metadata": {},
   "outputs": [],
   "source": [
    "def hola():\n",
    "    print(\"Hola\")"
   ]
  },
  {
   "cell_type": "code",
   "execution_count": 91,
   "metadata": {},
   "outputs": [
    {
     "name": "stdout",
     "output_type": "stream",
     "text": [
      "Hola\n"
     ]
    }
   ],
   "source": [
    "hola()"
   ]
  },
  {
   "cell_type": "code",
   "execution_count": 92,
   "metadata": {},
   "outputs": [],
   "source": [
    "#función con un parámetro\n",
    "def holaNombre(nombre):\n",
    "    print(\"Hola\", nombre)"
   ]
  },
  {
   "cell_type": "code",
   "execution_count": 93,
   "metadata": {},
   "outputs": [
    {
     "name": "stdout",
     "output_type": "stream",
     "text": [
      "Hola Juan\n"
     ]
    }
   ],
   "source": [
    "holaNombre(\"Juan\")"
   ]
  },
  {
   "cell_type": "code",
   "execution_count": 94,
   "metadata": {},
   "outputs": [],
   "source": [
    "#o con múltiples parámetros\n",
    "def sumar(numero1, numero2):\n",
    "    return numero1 + numero2"
   ]
  },
  {
   "cell_type": "code",
   "execution_count": 95,
   "metadata": {},
   "outputs": [
    {
     "data": {
      "text/plain": [
       "165"
      ]
     },
     "execution_count": 95,
     "metadata": {},
     "output_type": "execute_result"
    }
   ],
   "source": [
    "sumar(99, 66)"
   ]
  },
  {
   "cell_type": "markdown",
   "metadata": {},
   "source": [
    "¿Qué pasa si a `sumar()` le paso más de 2 números?"
   ]
  },
  {
   "cell_type": "code",
   "execution_count": 96,
   "metadata": {},
   "outputs": [
    {
     "ename": "TypeError",
     "evalue": "sumar() takes 2 positional arguments but 3 were given",
     "output_type": "error",
     "traceback": [
      "\u001b[1;31m---------------------------------------------------------------------------\u001b[0m",
      "\u001b[1;31mTypeError\u001b[0m                                 Traceback (most recent call last)",
      "\u001b[1;32m<ipython-input-96-98f2ff61d715>\u001b[0m in \u001b[0;36m<module>\u001b[1;34m\u001b[0m\n\u001b[1;32m----> 1\u001b[1;33m \u001b[0msumar\u001b[0m\u001b[1;33m(\u001b[0m\u001b[1;36m1\u001b[0m\u001b[1;33m,\u001b[0m \u001b[1;36m2\u001b[0m\u001b[1;33m,\u001b[0m \u001b[1;36m3\u001b[0m\u001b[1;33m)\u001b[0m\u001b[1;33m\u001b[0m\u001b[1;33m\u001b[0m\u001b[0m\n\u001b[0m",
      "\u001b[1;31mTypeError\u001b[0m: sumar() takes 2 positional arguments but 3 were given"
     ]
    }
   ],
   "source": [
    "sumar(1, 2, 3)"
   ]
  },
  {
   "cell_type": "markdown",
   "metadata": {},
   "source": [
    "¿Cómo podemos arreglar esto? Una forma es pasar un arreglo de números"
   ]
  },
  {
   "cell_type": "code",
   "execution_count": 99,
   "metadata": {},
   "outputs": [
    {
     "data": {
      "text/plain": [
       "10"
      ]
     },
     "execution_count": 99,
     "metadata": {},
     "output_type": "execute_result"
    }
   ],
   "source": [
    "def new_func(array_like):\n",
    "    out_sum = 0\n",
    "    for i in array_like:\n",
    "        out_sum += i\n",
    "    return out_sum\n",
    "\n",
    "new_func([1, 2, 3, 4])"
   ]
  },
  {
   "cell_type": "markdown",
   "metadata": {},
   "source": [
    "## *args y *kwargs\n",
    "Una mejor opción es utilizar `args` y `kwargs`. Ambos permiten pasar un número variable de argumentos a una función, por lo que si queremos definir una función cuyo número de parámetros de entrada puede ser variable, considera el uso de *args o **kwargs como una opción. "
   ]
  },
  {
   "cell_type": "code",
   "execution_count": 100,
   "metadata": {},
   "outputs": [
    {
     "name": "stdout",
     "output_type": "stream",
     "text": [
      "primer argumento normal: python\n",
      "argumentos de *argv: foo\n",
      "argumentos de *argv: bar\n"
     ]
    }
   ],
   "source": [
    "def test_var_args(f_arg, *argv):\n",
    "    print(\"primer argumento normal:\", f_arg)\n",
    "    for arg in argv:\n",
    "        print(\"argumentos de *argv:\", arg)\n",
    "\n",
    "test_var_args('python', 'foo', 'bar')"
   ]
  },
  {
   "cell_type": "markdown",
   "metadata": {},
   "source": [
    "**kwargs permite pasar argumentos de longitud variable asociados con un nombre o key a una función. Deberías usar **kwargs si quieres manejar argumentos con nombre como entrada a una función. Aquí tienes un ejemplo de su uso."
   ]
  },
  {
   "cell_type": "code",
   "execution_count": 104,
   "metadata": {},
   "outputs": [
    {
     "name": "stdout",
     "output_type": "stream",
     "text": [
      "nombre = Jane\n",
      "nombre2 = Jeny\n",
      "nombre3 = Julia\n"
     ]
    }
   ],
   "source": [
    "def saludame(**kwargs):\n",
    "    for key, value in kwargs.items():\n",
    "        print(\"{0} = {1}\".format(key, value))\n",
    "\n",
    "saludame(nombre=\"Jane\", nombre2='Jeny', nombre3='Julia')\n"
   ]
  },
  {
   "cell_type": "markdown",
   "metadata": {},
   "source": [
    "Es decir, dentro de la función no solo tenemos acceso a la variable como con *args, sino que también tenemos acceso a un nombre o key asociado. A continuación veremos como se puede usar *args y **kwargs para llamar a una función con una lista o diccionario como argumentos."
   ]
  },
  {
   "cell_type": "code",
   "execution_count": 105,
   "metadata": {},
   "outputs": [],
   "source": [
    "def test_args_kwargs(arg1, arg2, arg3):\n",
    "    print(\"arg1:\", arg1)\n",
    "    print(\"arg2:\", arg2)\n",
    "    print(\"arg3:\", arg3)"
   ]
  },
  {
   "cell_type": "code",
   "execution_count": 106,
   "metadata": {},
   "outputs": [
    {
     "name": "stdout",
     "output_type": "stream",
     "text": [
      "arg1: dos\n",
      "arg2: 3\n",
      "arg3: 5\n"
     ]
    }
   ],
   "source": [
    "#Ahora puedes usar *args o **kwargs para pasarle argumentos a la función. \n",
    "#Se puede hacer de la siguiente manera:\n",
    "args = (\"dos\", 3, 5)\n",
    "test_args_kwargs(*args)"
   ]
  },
  {
   "cell_type": "code",
   "execution_count": 107,
   "metadata": {},
   "outputs": [
    {
     "name": "stdout",
     "output_type": "stream",
     "text": [
      "arg1: 5\n",
      "arg2: dos\n",
      "arg3: 3\n"
     ]
    }
   ],
   "source": [
    "# Ahora con **kwargs:\n",
    "kwargs = {\"arg3\": 3, \"arg2\": \"dos\", \"arg1\": 5}\n",
    "test_args_kwargs(**kwargs)"
   ]
  },
  {
   "cell_type": "markdown",
   "metadata": {},
   "source": [
    "También podemos utilizar los 3 tipos de argumentos en el siguiente orden\n",
    "funcion(fargs, *args, **kwargs)"
   ]
  },
  {
   "cell_type": "code",
   "execution_count": 109,
   "metadata": {},
   "outputs": [],
   "source": [
    "#Otros ejemplos\n",
    "def dict_funct(arg1,arg2,**kwargs):\n",
    "    output_dict = {}\n",
    "    output_dict[arg1] = arg2\n",
    "    for i in kwargs.keys():\n",
    "        output_dict[i] = kwargs[i]\n",
    "    return output_dict"
   ]
  },
  {
   "cell_type": "code",
   "execution_count": 110,
   "metadata": {},
   "outputs": [
    {
     "data": {
      "text/plain": [
       "{'key1': 5}"
      ]
     },
     "execution_count": 110,
     "metadata": {},
     "output_type": "execute_result"
    }
   ],
   "source": [
    "one = dict_funct('key1',5)\n",
    "one"
   ]
  },
  {
   "cell_type": "code",
   "execution_count": 111,
   "metadata": {},
   "outputs": [
    {
     "data": {
      "text/plain": [
       "{'key1': 5, 'key2': 6}"
      ]
     },
     "execution_count": 111,
     "metadata": {},
     "output_type": "execute_result"
    }
   ],
   "source": [
    "two = dict_funct('key1',5,key2=6)\n",
    "two"
   ]
  },
  {
   "cell_type": "markdown",
   "metadata": {},
   "source": [
    "## Ejercicio\n",
    "Ahora que entendemos funciones, utilicemos nuestro conocimiento recien adquirido para crear una función llamada `compare_students()` que haga lo siguiente:\n",
    "- Tome una serie de nombres como argumento\n",
    "- Recorra el diccionario `class_dictionary` que utilizamos anteriormente\n",
    "- Grafique una comparación de los estudiantes seleccionados con la función `plt.barh()`\n",
    "\n",
    "Su gráfico se verá similar al siguiente"
   ]
  },
  {
   "cell_type": "code",
   "execution_count": 112,
   "metadata": {},
   "outputs": [
    {
     "data": {
      "image/png": "[encoded data removed]",
      "text/plain": [
       "<Figure size 432x288 with 1 Axes>"
      ]
     },
     "metadata": {
      "needs_background": "light"
     },
     "output_type": "display_data"
    }
   ],
   "source": [
    "tick_labels = ('samantha','dave','malena')\n",
    "plt.barh([1,2,3],[4,3,6])\n",
    "plt.yticks([1,2,3],tick_labels)\n",
    "plt.show()"
   ]
  },
  {
   "cell_type": "markdown",
   "metadata": {},
   "source": [
    "Una vez terminada su función corra las siguientes pruebas\n",
    "- `compare_students('Sarah','Josiah')`\n",
    "- `compare_students('Sarah','Josiah','Malena')`\n",
    "- `compare_students('Sarah','Josiah', 'Malena', 'Samantha')`\n",
    "\n",
    "A continuación tenemos algunos snippets de código que le pueden ayudar"
   ]
  },
  {
   "cell_type": "code",
   "execution_count": 113,
   "metadata": {},
   "outputs": [
    {
     "data": {
      "text/plain": [
       "[1, 2, 4, 4, 5, 6]"
      ]
     },
     "execution_count": 113,
     "metadata": {},
     "output_type": "execute_result"
    }
   ],
   "source": [
    "#Combinar 2 listas\n",
    "[1,2,4] + [4,5,6]"
   ]
  },
  {
   "cell_type": "code",
   "execution_count": 114,
   "metadata": {},
   "outputs": [
    {
     "data": {
      "text/plain": [
       "[0, 2, 4, 6, 8, 10, 12, 14, 16, 18]"
      ]
     },
     "execution_count": 114,
     "metadata": {},
     "output_type": "execute_result"
    }
   ],
   "source": [
    "#rellenar una lista, utilizar la funci'on append\n",
    "empty_list = []\n",
    "for i in range(10):\n",
    "    empty_list.append(i*2)\n",
    "empty_list"
   ]
  },
  {
   "cell_type": "code",
   "execution_count": 117,
   "metadata": {},
   "outputs": [
    {
     "data": {
      "text/plain": [
       "[0, 2, 4, 6, 8, 10, 12, 14, 16, 18]"
      ]
     },
     "execution_count": 117,
     "metadata": {},
     "output_type": "execute_result"
    }
   ],
   "source": [
    "#comprensión de listas (list comprehension)\n",
    "full_list = [i*2 for i in range(10)]\n",
    "full_list\n",
    "#basicamente se lee, cree una lista llamada full list con valores i*2 en el rango(10)\n",
    "#es basicamente un for loop comprimido"
   ]
  },
  {
   "cell_type": "code",
   "execution_count": 122,
   "metadata": {},
   "outputs": [
    {
     "data": {
      "image/png": "[encoded data removed]",
      "text/plain": [
       "<Figure size 432x288 with 1 Axes>"
      ]
     },
     "metadata": {
      "needs_background": "light"
     },
     "output_type": "display_data"
    }
   ],
   "source": [
    "def compare_students():\n",
    "    #su codigo aqui\n",
    "    return"
   ]
  },
  {
   "cell_type": "markdown",
   "metadata": {},
   "source": [
    "## Parte final - Escribiendo mejores funciones\n",
    "Algo muy importante cuando escribimos funciones es *documentar* lo que hace. Esto le dice a otras personas que van a utilizar nuestras funciones cómo deben utilizar nuestro código. Normalmente la documentación se ve así:"
   ]
  },
  {
   "cell_type": "code",
   "execution_count": 127,
   "metadata": {},
   "outputs": [],
   "source": [
    "def compare_students(student1,student2,*args):\n",
    "    '''\n",
    "    Una función para producir una barra horizontal, comparando puntajes entre estudiantes\n",
    "    ENTRADAS:\n",
    "        student1 (string): el nombre del estudiante 1 en un diccionario llamado class_dictionary\n",
    "        student2 (string): el nombre del estudiante 2 en un diccionario llamado class_dictionary\n",
    "        *args (opcional, string): cualquier número de estudiantes del diccionario class_dictionary\n",
    "    PRODUCE: \n",
    "        Una gráfica de barras horizontal.\n",
    "    RETORNA: \n",
    "        NONE\n",
    "    '''\n",
    "    #Su código va aqui\n",
    "    return"
   ]
  },
  {
   "cell_type": "markdown",
   "metadata": {},
   "source": [
    "Ahora si queremos saber qué es lo que necesita nuestra función, podemos llamar la documentación con la función `help()` o con Shift+Tab como vimos anteriormente."
   ]
  },
  {
   "cell_type": "code",
   "execution_count": 130,
   "metadata": {},
   "outputs": [
    {
     "name": "stdout",
     "output_type": "stream",
     "text": [
      "Help on function compare_students in module __main__:\n",
      "\n",
      "compare_students(student1, student2, *args)\n",
      "    Una función para producir una barra horizontal, comparando puntajes entre estudiantes\n",
      "    ENTRADAS:\n",
      "        student1 (string): el nombre del estudiante 1 en un diccionario llamado class_dictionary\n",
      "        student2 (string): el nombre del estudiante 2 en un diccionario llamado class_dictionary\n",
      "        *args (opcional, string): cualquier número de estudiantes del diccionario class_dictionary\n",
      "    PRODUCE: \n",
      "        Una gráfica de barras horizontal.\n",
      "    RETORNA: \n",
      "        NONE\n",
      "\n"
     ]
    }
   ],
   "source": [
    "help(compare_students)\n",
    "#compare_students() #o shift+tab al principio de la función"
   ]
  },
  {
   "cell_type": "markdown",
   "metadata": {},
   "source": [
    "¿Cómo podemos mejorar esta función? El hecho de que necesite un diccionario externo llamado `class_dictionary` es bastante malo ¿qué pasa si `class_dictionary` nunca se define en mi programa?\n",
    "\n",
    "Lo mejor es crear nuestro código para que generalice en la mayoría de situaciones, una opción es que el usuario provea su propio diccionario como un parámetro de la función."
   ]
  },
  {
   "cell_type": "code",
   "execution_count": 131,
   "metadata": {},
   "outputs": [],
   "source": [
    "def compare_students(student1,student2,class_dict=class_dictionary,*args):\n",
    "    '''\n",
    "    Una función para producir una barra horizontal, comparando puntajes entre estudiantes\n",
    "    ENTRADAS:\n",
    "        student1 (string): el nombre del estudiante 1 en un diccionario llamado class_dictionary\n",
    "        student2 (string): el nombre del estudiante 2 en un diccionario llamado class_dictionary\n",
    "        *args (opcional, string): cualquier número de estudiantes del diccionario class_dictionary\n",
    "    PRODUCE: \n",
    "        Una gráfica de barras horizontal.\n",
    "    RETORNA: \n",
    "        NONE\n",
    "    '''\n",
    "    #Su código va aqui\n",
    "    return"
   ]
  },
  {
   "cell_type": "markdown",
   "metadata": {},
   "source": [
    "Finalmente podríamos generalizar aún más nuestra función, por ejemplo si se llama fuera del contexto de este notebook, y que acepte, un diccionario que contenga todos los nombres y notas, un mínimo de 2 estudiantes a comparar, y cualquier cantidad de estudiantes adicionales."
   ]
  },
  {
   "cell_type": "code",
   "execution_count": 126,
   "metadata": {},
   "outputs": [],
   "source": [
    "def compare_students(class_dict,student1,student2,*args):\n",
    "    '''\n",
    "    Una función para producir una barra horizontal, comparando puntajes entre estudiantes\n",
    "    ENTRADAS:\n",
    "        student1 (string): el nombre del estudiante 1 en un diccionario llamado class_dictionary\n",
    "        student2 (string): el nombre del estudiante 2 en un diccionario llamado class_dictionary\n",
    "        *args (opcional, string): cualquier número de estudiantes del diccionario class_dictionary\n",
    "    PRODUCE: \n",
    "        Una gráfica de barras horizontal.\n",
    "    RETORNA: \n",
    "        NONE\n",
    "    '''\n",
    "    #Su código va aqui\n",
    "    return"
   ]
  },
  {
   "cell_type": "markdown",
   "metadata": {},
   "source": [
    "## Ejercicios adicionales\n",
    "1. Mejore su función `compare_students` para que los nombres se puedan escribir en minúscula, con la primera letra mayúscula, o todas las letras mayúsculas e.g. 'Jane', 'jane', 'JANE'. Busque cómo hacer que las strings que se van a buscar sean todas mayúsculas o minúsculas para buscarlo en su diccionario de estudiantes + notas.\n",
    "1. ¿Qué pasa si intentamos comparar un estudiante que no está en la lista? Mejore su función para que acepte nombres que no existen en su diccionario de `class_dictionary` e ignore y tire una advertencia `El nombre __________ no está en el diccionario`, pero aún así genere su gráfico de barras con los estudiantes que sí se encuentran. Puede intentar clausulas `if` o `try` y `except` si quiere aprender otra forma.\n",
    "1. Mejore su función para que el puntaje más alto de la comparación de estudiantes sea graficado en otro color. Busque en la documentación de `plt.barh()`."
   ]
  },
  {
   "cell_type": "code",
   "execution_count": null,
   "metadata": {},
   "outputs": [],
   "source": []
  }
 ],
 "metadata": {
  "anaconda-cloud": {},
  "kernelspec": {
   "display_name": "Python [conda env:pyvizenv]",
   "language": "python",
   "name": "conda-env-pyvizenv-py"
  },
  "language_info": {
   "codemirror_mode": {
    "name": "ipython",
    "version": 3
   },
   "file_extension": ".py",
   "mimetype": "text/x-python",
   "name": "python",
   "nbconvert_exporter": "python",
   "pygments_lexer": "ipython3",
   "version": "3.7.9"
  }
 },
 "nbformat": 4,
 "nbformat_minor": 4
}
